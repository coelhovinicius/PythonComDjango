{
 "cells": [
  {
   "cell_type": "code",
   "execution_count": null,
   "metadata": {},
   "outputs": [],
   "source": [
    "# MÉDIAS\n",
    "notas = []\n",
    "\n",
    "while True:\n",
    "    nota = float(input('Digite a nota do aluno. Para sair, digite \"-1\"'))\n",
    "    if nota == -1:\n",
    "        break\n",
    "    \n",
    "    notas.append(nota)\n",
    "\n",
    "for i in notas:\n",
    "    print(i)\n",
    "\n",
    "print(notas)\n",
    "\n",
    "soma = 0\n",
    "qtdNotas = 0\n",
    "for i in notas:\n",
    "    soma += i\n",
    "    qtdNotas += 1\n",
    "\n",
    "media = soma / qtdNotas\n",
    "print('Média:', media)"
   ]
  },
  {
   "cell_type": "code",
   "execution_count": 8,
   "metadata": {},
   "outputs": [
    {
     "name": "stdout",
     "output_type": "stream",
     "text": [
      "951753\n"
     ]
    }
   ],
   "source": [
    "# DICIONÁRIOS\n",
    "pessoa = {'nome': 'Vini', 'cpf': 951753, 'cep': 378574}\n",
    "print(pessoa['cpf'])"
   ]
  },
  {
   "cell_type": "code",
   "execution_count": 9,
   "metadata": {},
   "outputs": [
    {
     "name": "stdout",
     "output_type": "stream",
     "text": [
      "Chave: nome\n",
      "Valor: Vini\n",
      "--------------------------------------------------------\n",
      "Chave: cpf\n",
      "Valor: 951753\n",
      "--------------------------------------------------------\n",
      "Chave: cep\n",
      "Valor: 378574\n",
      "--------------------------------------------------------\n"
     ]
    }
   ],
   "source": [
    "for i, j in pessoa.items():\n",
    "    print(f'Chave: {i}')\n",
    "    print(f'Valor: {j}')\n",
    "    print('--------------------------------------------------------')"
   ]
  },
  {
   "cell_type": "code",
   "execution_count": 19,
   "metadata": {},
   "outputs": [
    {
     "name": "stdout",
     "output_type": "stream",
     "text": [
      "79\n",
      "11\n"
     ]
    }
   ],
   "source": [
    "# FUNÇÕES\n",
    "def somar(valor1, valor2):\n",
    "    return valor1 + valor2\n",
    "\n",
    "soma1 = somar(1, 78)\n",
    "soma2 = somar(4, 7)\n",
    "\n",
    "print(soma1)\n",
    "print(soma2)"
   ]
  },
  {
   "cell_type": "code",
   "execution_count": null,
   "metadata": {},
   "outputs": [],
   "source": [
    "# IMPORTAÇÕES\n"
   ]
  }
 ],
 "metadata": {
  "kernelspec": {
   "display_name": "Python 3",
   "language": "python",
   "name": "python3"
  },
  "language_info": {
   "codemirror_mode": {
    "name": "ipython",
    "version": 3
   },
   "file_extension": ".py",
   "mimetype": "text/x-python",
   "name": "python",
   "nbconvert_exporter": "python",
   "pygments_lexer": "ipython3",
   "version": "3.12.3"
  }
 },
 "nbformat": 4,
 "nbformat_minor": 2
}
